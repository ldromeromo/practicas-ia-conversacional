{
  "nbformat": 4,
  "nbformat_minor": 0,
  "metadata": {
    "colab": {
      "provenance": []
    },
    "kernelspec": {
      "name": "python3",
      "display_name": "Python 3"
    },
    "language_info": {
      "name": "python"
    }
  },
  "cells": [
    {
      "cell_type": "markdown",
      "source": [
        "# Ejemplo con Hugging Face usando el modelo BLIP (Bootstrapped Language image pretraining) para describir imagenes o responder preguntas.\n",
        "\n",
        "1. Instalar librerías necesarias.\n",
        "\n",
        "\n",
        "```\n",
        "pip install transformers torchvision torch pillow\n",
        "```\n",
        "\n"
      ],
      "metadata": {
        "id": "lgH_VOfE4mWh"
      }
    },
    {
      "cell_type": "markdown",
      "source": [
        "2. Código Python para descripción de imagen."
      ],
      "metadata": {
        "id": "uwG17za_6HFW"
      }
    },
    {
      "cell_type": "code",
      "execution_count": null,
      "metadata": {
        "colab": {
          "base_uri": "https://localhost:8080/"
        },
        "id": "4RsRfHngyMpu",
        "outputId": "358c723e-c8f0-4d00-dce3-d272c1d2555e"
      },
      "outputs": [
        {
          "output_type": "stream",
          "name": "stdout",
          "text": [
            "Descripción generada: a close up of a tarot card with a cartoon cat\n"
          ]
        }
      ],
      "source": [
        "from transformers import BlipProcessor, BlipForConditionalGeneration\n",
        "from PIL import Image\n",
        "import torch\n",
        "\n",
        "# Cargar imagen\n",
        "image = Image.open(\"IMG_0216.jpeg\").convert(\"RGB\")\n",
        "\n",
        "# Cargar modelo y processor\n",
        "processor = BlipProcessor.from_pretrained(\"Salesforce/blip-image-captioning-large\")\n",
        "model = BlipForConditionalGeneration.from_pretrained(\"Salesforce/blip-image-captioning-large\")\n",
        "\n",
        "# Preprocesar entrada\n",
        "inputs = processor(image, return_tensors=\"pt\")\n",
        "\n",
        "# Generar texto\n",
        "out = model.generate(**inputs)\n",
        "\n",
        "# Mostrar resultado\n",
        "print(\"Descripción generada:\", processor.decode(out[0], skip_special_tokens=True))"
      ]
    },
    {
      "cell_type": "markdown",
      "source": [
        "3. Visual Question Answering (VQA)."
      ],
      "metadata": {
        "id": "a4p2AEFf4qCE"
      }
    },
    {
      "cell_type": "code",
      "source": [
        "from transformers import BlipProcessor, BlipForQuestionAnswering\n",
        "\n",
        "# Cargar modelo de VQA\n",
        "processor = BlipProcessor.from_pretrained(\"Salesforce/blip-vqa-base\")\n",
        "model = BlipForQuestionAnswering.from_pretrained(\"Salesforce/blip-vqa-base\")\n",
        "\n",
        "# Cargar imagen\n",
        "image = Image.open(\"IMG_0216.jpeg\").convert(\"RGB\")\n",
        "\n",
        "# Pregunta al modelo\n",
        "question = \"¿Qué animal en la imagen?\"\n",
        "\n",
        "# Preprocesar\n",
        "inputs = processor(image, question, return_tensors=\"pt\")\n",
        "\n",
        "# Generar respuesta\n",
        "out = model.generate(**inputs)\n",
        "\n",
        "# Imprimir\n",
        "print(\"Respuesta:\", processor.decode(out[0], skip_special_tokens=True))"
      ],
      "metadata": {
        "colab": {
          "base_uri": "https://localhost:8080/"
        },
        "id": "LL7t3YFgyxYH",
        "outputId": "503baa52-a934-41c6-8067-f53ee669b946"
      },
      "execution_count": null,
      "outputs": [
        {
          "output_type": "stream",
          "name": "stdout",
          "text": [
            "Respuesta: cat\n"
          ]
        }
      ]
    }
  ]
}