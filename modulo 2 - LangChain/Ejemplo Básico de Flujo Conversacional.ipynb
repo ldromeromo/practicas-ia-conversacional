{
 "cells": [
  {
   "cell_type": "markdown",
   "metadata": {},
   "source": [
    "# 🤖 Ejemplo Básico de Flujo Conversacional\n",
    "## Un chatbot con memoria corta que:\n",
    "\n",
    "- Recibe una pregunta.\n",
    "- La responde usando un modelo LLM.\n",
    "- Guarda el historial en memoria para futuras respuestas."
   ]
  },
  {
   "cell_type": "code",
   "execution_count": null,
   "metadata": {},
   "outputs": [],
   "source": [
    "from langchain.chat_models import ChatOpenAI\n",
    "from langchain.chains import ConversationChain\n",
    "from langchain.memory import ConversationBufferMemory\n",
    "import os\n",
    "\n",
    "# Inicializamos el modelo de lenguaje\n",
    "llm = ChatOpenAI(\n",
    "    openai_api_key=os.getenv(\"OPENAI_API_KEY\"), \n",
    "    model_name=\"gpt-4.1-nano\",  # o \"gpt-3.5-turbo\", \"gpt-4\" según lo que tengas disponible\n",
    "    temperature=0.7       # Opcional, controla la creatividad (0 = muy preciso, 1 = muy creativo)\n",
    ")\n",
    "\n",
    "# Inicializamos la memoria de la conversación\n",
    "memory = ConversationBufferMemory()\n",
    "\n",
    "# Creamos la cadena de conversación\n",
    "chain = ConversationChain(\n",
    "    llm=llm,\n",
    "    memory=memory\n",
    ")\n",
    "\n",
    "# Primera interacción\n",
    "response = chain.run(\"Hola, ¿cómo te llamas?\")\n",
    "print(response)\n",
    "\n",
    "# Segunda interacción\n",
    "response = chain.run(\"¿Y qué puedo preguntarte?\")\n",
    "print(response)\n"
   ]
  },
  {
   "cell_type": "code",
   "execution_count": null,
   "metadata": {},
   "outputs": [],
   "source": [
    "# from langchain.chat_models import ChatOpenAI\n",
    "# from langchain.chains import ConversationChain\n",
    "from langchain.memory import ConversationBufferMemory\n",
    "\n",
    "llm = ChatOpenAI()\n",
    "memory = ConversationBufferMemory()\n",
    "# chain = ConversationChain(llm=llm, memory=memory)\n",
    "\n",
    "response = chain.run(\"Hola, ¿cómo te llamas?\")\n",
    "print(response)\n",
    "\n",
    "response = chain.run(\"¿Y qué puedo preguntarte?\")\n",
    "print(response)\n"
   ]
  },
  {
   "cell_type": "code",
   "execution_count": null,
   "metadata": {},
   "outputs": [],
   "source": [
    "from transformers import AutoModelForCausalLM, AutoTokenizer, pipeline\n",
    "from langchain.llms import HuggingFacePipeline\n",
    "from langchain.chains import ConversationChain\n",
    "from langchain.memory import ConversationBufferMemory\n",
    "\n",
    "# Cargamos un modelo local sin login ni token\n",
    "model_name = \"distilgpt2\"\n",
    "tokenizer = AutoTokenizer.from_pretrained(model_name)\n",
    "model = AutoModelForCausalLM.from_pretrained(model_name)\n",
    "\n",
    "pipe = pipeline(\"text-generation\", model=model, tokenizer=tokenizer, max_length=100, pad_token_id=50256)\n",
    "\n",
    "# Creamos el LLM con LangChain\n",
    "llm = HuggingFacePipeline(pipeline=pipe)\n",
    "memory = ConversationBufferMemory()\n",
    "chain = ConversationChain(llm=llm, memory=memory)\n",
    "\n",
    "# Ejemplo de conversación\n",
    "print(chain.run(\"Hola, ¿cómo te llamas?\"))\n",
    "print(chain.run(\"¿Qué me acabas de decir?\"))\n"
   ]
  },
  {
   "cell_type": "code",
   "execution_count": null,
   "metadata": {},
   "outputs": [],
   "source": [
    "from langchain.chat_models import ChatOpenAI\n",
    "llm = ChatOpenAI(temperature=0.7)\n"
   ]
  }
 ],
 "metadata": {
  "kernelspec": {
   "display_name": "venv",
   "language": "python",
   "name": "python3"
  },
  "language_info": {
   "codemirror_mode": {
    "name": "ipython",
    "version": 3
   },
   "file_extension": ".py",
   "mimetype": "text/x-python",
   "name": "python",
   "nbconvert_exporter": "python",
   "pygments_lexer": "ipython3",
   "version": "3.12.0"
  }
 },
 "nbformat": 4,
 "nbformat_minor": 2
}
